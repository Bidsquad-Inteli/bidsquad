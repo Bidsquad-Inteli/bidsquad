{
  "cells": [
    {
      "cell_type": "markdown",
      "metadata": {},
      "source": [
        "# Criando o modelo"
      ]
    },
    {
      "cell_type": "markdown",
      "metadata": {},
      "source": [
        "Definindo conjunto de treinamento"
      ]
    },
    {
      "cell_type": "code",
      "execution_count": null,
      "metadata": {
        "id": "wsHKbbzPRZuD"
      },
      "outputs": [],
      "source": [
        "ratings = [\n",
        "    4, 1, 8, 1, 7, 9, 10, 18, 4, 3, 13, 3, 7, 10, 3, 4, 7, 5, 6, 12,\n",
        "    16, 10, 5, 10, 20, 16, 19, 19, 5, 0, 2, 3, 4, 7, 5, 2, 8, 7, 5, 5,\n",
        "    5, 11, 0, 3, 1, 3, 6, 4, 1, 1, 5, 5, 3, 6, 11, 6, 6, 8, 1, 10,\n",
        "    3, 5, 10, 0, 1, 0, 0, 3, 5, 3, 12, 3, 1, 1, 2, 6, 2, 0, 0, 6,\n",
        "    6, 3, 3, 4, 7, 8, 6, 0, 0, 6, 6, 13, 0, 14, 1, 5, 0, 0, 0, 0,\n",
        "    0, 0, 4, 4, 9, 6, 6, 0, 2, 6, 2, 7, 6, 0, 1, 0, 6, 5, 3, 3,\n",
        "    18, 17, 10, 10, 10, 11, 19, 17, 19, 7, 4, 19, 13, 6, 5, 5, 2, 1,\n",
        "    0, 0, 3, 3, 1, 7, 7, 7, 3, 8, 5, 4, 6, 5, 3, 5, 8, 5, 6, 11,\n",
        "    0, 0, 4, 10, 13, 9, 12, 16, 12, 5, 3, 2, 1, 3, 3, 1, 4, 4, 17, 17,\n",
        "    19, 14, 15, 13, 10, 9, 17, 19, 11, 17, 9\n",
        "]\n",
        "\n",
        "training_images = []\n",
        "for i in range(0,189):\n",
        "  training_images.append(str(i)+\".png\")"
      ]
    },
    {
      "cell_type": "markdown",
      "metadata": {},
      "source": [
        "Importando bibliotecas necessárias"
      ]
    },
    {
      "cell_type": "code",
      "execution_count": null,
      "metadata": {
        "id": "R2rH0-4HSsjj"
      },
      "outputs": [],
      "source": [
        "from tensorflow.keras.models import Sequential\n",
        "from tensorflow.keras.layers import Conv2D, MaxPooling2D, Flatten, Dense, Dropout\n",
        "from sklearn.model_selection import train_test_split\n",
        "import numpy as np\n",
        "import cv2"
      ]
    },
    {
      "cell_type": "markdown",
      "metadata": {},
      "source": [
        "Preparação dos dados"
      ]
    },
    {
      "cell_type": "code",
      "execution_count": null,
      "metadata": {
        "id": "SzL-4twlSoKA"
      },
      "outputs": [],
      "source": [
        "\n",
        "X = []\n",
        "for file_name in training_images:\n",
        "    img = cv2.imread(f\"data/{file_name}\")\n",
        "    img = cv2.resize(img, (256, 256))\n",
        "    X.append(img)\n",
        "\n",
        "X = np.array(X) / 255\n",
        "y = np.array(ratings)\n",
        "\n",
        "# Dividindo em conjuntos de treinamento e teste\n",
        "X_train, X_test, y_train, y_test = train_test_split(X, y, test_size=0.1, random_state=42)\n"
      ]
    },
    {
      "cell_type": "markdown",
      "metadata": {},
      "source": [
        "Criando o modelo"
      ]
    },
    {
      "cell_type": "code",
      "execution_count": null,
      "metadata": {
        "id": "9rXEfdNXSu8n"
      },
      "outputs": [],
      "source": [
        "model = Sequential([\n",
        "    Conv2D(32, (3,3), activation='relu', input_shape=(256,256, 3)),\n",
        "    MaxPooling2D(2, 2),\n",
        "    Conv2D(64, (3,3), activation='relu'),\n",
        "    MaxPooling2D(2,2),\n",
        "    Conv2D(128, (3,3), activation='relu'),\n",
        "    MaxPooling2D(2,2),\n",
        "    Flatten(),\n",
        "    Dense(512, activation='relu'),\n",
        "    Dropout(0.2),\n",
        "    Dense(1)\n",
        "])\n",
        "\n",
        "model.compile(optimizer='adam', loss='mean_squared_error')\n"
      ]
    },
    {
      "cell_type": "markdown",
      "metadata": {},
      "source": [
        "treinando o modelo"
      ]
    },
    {
      "cell_type": "code",
      "execution_count": null,
      "metadata": {
        "colab": {
          "base_uri": "https://localhost:8080/"
        },
        "id": "EXKUAAqAT1o-",
        "outputId": "44098690-a57c-48c5-e449-378af715b21d"
      },
      "outputs": [],
      "source": [
        "history = model.fit(X_train, y_train, batch_size=32,\n",
        "                    epochs=12,\n",
        "                    validation_data=(X_test, y_test))\n"
      ]
    },
    {
      "cell_type": "markdown",
      "metadata": {},
      "source": [
        "desempenho do modelo"
      ]
    },
    {
      "cell_type": "code",
      "execution_count": null,
      "metadata": {
        "colab": {
          "base_uri": "https://localhost:8080/"
        },
        "id": "XUzVbVFNaajy",
        "outputId": "b01e30ed-d88e-4733-ab9d-a23a2151cf25"
      },
      "outputs": [
        {
          "name": "stdout",
          "output_type": "stream",
          "text": [
            "1/1 [==============================] - 0s 37ms/step - loss: 1.2789\n"
          ]
        },
        {
          "data": {
            "text/plain": [
              "1.278922200202942"
            ]
          },
          "execution_count": 204,
          "metadata": {},
          "output_type": "execute_result"
        }
      ],
      "source": [
        "model.evaluate(X_test, y_test)"
      ]
    },
    {
      "cell_type": "markdown",
      "metadata": {},
      "source": [
        "# Utilizando o modelo\n"
      ]
    },
    {
      "cell_type": "code",
      "execution_count": null,
      "metadata": {},
      "outputs": [],
      "source": [
        "import numpy as np\n",
        "from tensorflow.keras.models import load_model\n",
        "import  cv2\n",
        "\n",
        "model = load_model('/caminhoDoModelo')"
      ]
    },
    {
      "cell_type": "code",
      "execution_count": null,
      "metadata": {
        "id": "RCHL6JtOaHP7"
      },
      "outputs": [],
      "source": [
        "img = cv2.imread(\"suaImagem\")\n",
        "img.shape\n",
        "img = cv2.resize(test, (256, 256))\n",
        "img = np.array(test) / 255\n",
        "img = np.expand_dims(test, axis=0)\n",
        "results = round(float(model.predict(test)[0][0]), 1)\n",
        "results"
      ]
    }
  ],
  "metadata": {
    "accelerator": "GPU",
    "colab": {
      "gpuType": "T4",
      "provenance": []
    },
    "kernelspec": {
      "display_name": "Python 3",
      "name": "python3"
    },
    "language_info": {
      "name": "python"
    }
  },
  "nbformat": 4,
  "nbformat_minor": 0
}
